{
  "nbformat": 4,
  "nbformat_minor": 0,
  "metadata": {
    "kernelspec": {
      "display_name": "Python 3",
      "language": "python",
      "name": "python3"
    },
    "language_info": {
      "codemirror_mode": {
        "name": "ipython",
        "version": 3
      },
      "file_extension": ".py",
      "mimetype": "text/x-python",
      "name": "python",
      "nbconvert_exporter": "python",
      "pygments_lexer": "ipython3",
      "version": "3.7.4"
    },
    "colab": {
      "name": "Assignment - Tuples, Sets and Dictionaries.ipynb",
      "provenance": [],
      "collapsed_sections": [],
      "include_colab_link": true
    }
  },
  "cells": [
    {
      "cell_type": "markdown",
      "metadata": {
        "id": "view-in-github",
        "colab_type": "text"
      },
      "source": [
        "<a href=\"https://colab.research.google.com/github/Anupam-app/MavenFirstProject/blob/master/Assignment_Tuples%2C_Sets_and_Dictionaries.ipynb\" target=\"_parent\"><img src=\"https://colab.research.google.com/assets/colab-badge.svg\" alt=\"Open In Colab\"/></a>"
      ]
    },
    {
      "cell_type": "markdown",
      "metadata": {
        "id": "8WbUJEVzs8Bx"
      },
      "source": [
        "## <u>While doing this assignment only use those concepts which have been taught till now</u>"
      ]
    },
    {
      "cell_type": "markdown",
      "metadata": {
        "id": "KjPWYK0Rs8By"
      },
      "source": [
        "## <u>Problem 1</u>\n",
        "\n",
        "### Another measure of average\n",
        "\n",
        "* Mode is defined as the value that appears most often in a set of data values. Mode corresponds to the most frequent value.\n",
        "* You are given a list of numbers and you need to calculate the mode of this list"
      ]
    },
    {
      "cell_type": "code",
      "metadata": {
        "id": "34TbaGurs8Bz"
      },
      "source": [
        "# A list containing average daily temperature over 10 days\n",
        "temperatures = [34, 40, 29, 33, 42, 40, 39, 34, 34,33 ]"
      ],
      "execution_count": 5,
      "outputs": []
    },
    {
      "cell_type": "code",
      "metadata": {
        "id": "N1Yhpkiws8B3"
      },
      "source": [
        "# Step 1 : Find the unique set of values. Store this in a list\n",
        "unique_temperatures = list(set(temperatures))"
      ],
      "execution_count": 6,
      "outputs": []
    },
    {
      "cell_type": "code",
      "metadata": {
        "id": "KpMdlB5Fs8B8",
        "colab": {
          "base_uri": "https://localhost:8080/"
        },
        "outputId": "eb5dad3c-84f4-4511-8fd0-ffe77cb1f4d6"
      },
      "source": [
        "# Print the unique temperature list\n",
        "print(unique_temperatures)"
      ],
      "execution_count": 7,
      "outputs": [
        {
          "output_type": "stream",
          "text": [
            "[33, 34, 39, 40, 42, 29]\n"
          ],
          "name": "stdout"
        }
      ]
    },
    {
      "cell_type": "code",
      "metadata": {
        "id": "J7CyJi_Ls8B_",
        "colab": {
          "base_uri": "https://localhost:8080/"
        },
        "outputId": "d9ad91c6-8e69-417e-85ba-6fbd34b4226b"
      },
      "source": [
        "# Step 2 : Create an empty dictionary which will contain the unique temperatures as keys and their counts in the original temperatures list as values\n",
        "temp_dict = {}\n",
        "\n",
        "# Set the values for each key separately\n",
        "# First key\n",
        "First_key = unique_temperatures[0]\n",
        "temp_dict[First_key]= temperatures.count(First_key)\n",
        "print(temp_dict[First_key])\n",
        "\n",
        "# Second key\n",
        "Second_key = unique_temperatures[1]\n",
        "temp_dict[Second_key]= temperatures.count(Second_key)\n",
        "print(temp_dict[Second_key])\n",
        "\n",
        "\n",
        "# Third key\n",
        "Third_key = unique_temperatures[2]\n",
        "temp_dict[Third_key]= temperatures.count(Third_key)\n",
        "print(temp_dict[Third_key])\n",
        "\n",
        "\n",
        "# Fourth key\n",
        "Fourth_key = unique_temperatures[3]\n",
        "temp_dict[Fourth_key]= temperatures.count(Fourth_key)\n",
        "print(temp_dict[Fourth_key])\n",
        "\n",
        "\n",
        "# Fifth key\n",
        "Fifth_key = unique_temperatures[4]\n",
        "temp_dict[Fifth_key]= temperatures.count(Fifth_key)\n",
        "print(temp_dict[Fifth_key])\n",
        "\n",
        "# Sixth key\n",
        "Sixth_key = unique_temperatures[5]\n",
        "temp_dict[Sixth_key]= temperatures.count(Sixth_key)\n",
        "print(temp_dict[Sixth_key])\n",
        "\n"
      ],
      "execution_count": 8,
      "outputs": [
        {
          "output_type": "stream",
          "text": [
            "2\n",
            "3\n",
            "1\n",
            "2\n",
            "1\n",
            "1\n"
          ],
          "name": "stdout"
        }
      ]
    },
    {
      "cell_type": "code",
      "metadata": {
        "id": "-RDH6xKE43ei",
        "outputId": "226135a0-c93e-40b3-a29d-f1d78711aed4",
        "colab": {
          "base_uri": "https://localhost:8080/"
        }
      },
      "source": [
        "print(temp_dict)"
      ],
      "execution_count": 12,
      "outputs": [
        {
          "output_type": "stream",
          "text": [
            "{33: 2, 34: 3, 39: 1, 40: 2, 42: 1}\n"
          ],
          "name": "stdout"
        }
      ]
    },
    {
      "cell_type": "code",
      "metadata": {
        "id": "4-ZxbmMxtWfQ",
        "colab": {
          "base_uri": "https://localhost:8080/"
        },
        "outputId": "583066fb-d15f-42bd-ede5-936d17fb41ae"
      },
      "source": [
        "# Step 3: Store the dictionary values in a list\n",
        "temp_dict_frequencies = list(temp_dict.values())\n",
        "print(temp_dict_frequencies)\n",
        "# Print the list of dictionary values\n",
        "\n",
        "# Find the index of the most frequent temperature value\n",
        "most_frequent_temp_index = temp_dict_frequencies.index(max(temp_dict_frequencies))\n",
        "\n",
        "# Print the index\n",
        "print(most_frequent_temp_index)"
      ],
      "execution_count": 9,
      "outputs": [
        {
          "output_type": "stream",
          "text": [
            "[2, 3, 1, 2, 1, 1]\n",
            "1\n"
          ],
          "name": "stdout"
        }
      ]
    },
    {
      "cell_type": "code",
      "metadata": {
        "id": "riu9mZhcwBY6",
        "colab": {
          "base_uri": "https://localhost:8080/"
        },
        "outputId": "94c7c83f-2e48-4518-cf2d-e88caafabe99"
      },
      "source": [
        "# Step 4 : Create the list of dictionary keys\n",
        "temp_dict_keys = list(temp_dict.keys())\n",
        "\n",
        "# Print the list of dictionary keys\n",
        "print(temp_dict_keys)\n",
        "\n",
        "# Calculate the mode temperature\n",
        "mode_temp = temp_dict_keys[most_frequent_temp_index]\n",
        "print(mode_temp)"
      ],
      "execution_count": 13,
      "outputs": [
        {
          "output_type": "stream",
          "text": [
            "[33, 34, 39, 40, 42, 29]\n",
            "34\n"
          ],
          "name": "stdout"
        }
      ]
    },
    {
      "cell_type": "markdown",
      "metadata": {
        "id": "5qd8g8UUs8CM"
      },
      "source": [
        "## <u>Problem 2 </u>\n",
        "\n",
        "### Challenging the immutability of tuples\n",
        "\n",
        "You are given a list of tuples. You need to replace the last element of the last tuple"
      ]
    },
    {
      "cell_type": "code",
      "metadata": {
        "id": "FBJy9Sq_s8CN"
      },
      "source": [
        "# Input list of tuples\n",
        "\n",
        "list_of_tuples = [(10,20,30),(30,40,50),(50,60,70)]\n",
        "\n",
        "\n",
        "# Expected output : Replace the last element 70 with 100\n",
        "# output_list = [(10,20,30),(30,40,50),(50,60,100)]"
      ],
      "execution_count": null,
      "outputs": []
    },
    {
      "cell_type": "code",
      "metadata": {
        "id": "UNtYax1as8CR"
      },
      "source": [
        "# Your code here \n",
        "\n",
        "\n",
        "\n",
        "\n",
        "\n",
        "# Print the output list\n"
      ],
      "execution_count": null,
      "outputs": []
    },
    {
      "cell_type": "markdown",
      "metadata": {
        "id": "ejRCi-vTs8CU"
      },
      "source": [
        "## <u> Problem 3 </u>\n",
        "\n",
        "Natural Language Processing or NLP is one of the most promising fields in Machine Learning. Most of the times in NLP we deal with the textual data (a bunch of strings). Sometimes when we are processing the text, it is a common practice to get rid of some set of stop words from our original text. By default stop words are very common words used in English language such as and, or, punctuations etc.\n",
        "\n",
        "In this exercise, you are provided with a default set of stop words and you need to add some extra set of custom words."
      ]
    },
    {
      "cell_type": "code",
      "metadata": {
        "id": "C5olNuDGs8CU"
      },
      "source": [
        "# A sample sentence \n",
        "\n",
        "sentence = 'Hello, good morning folks! Today we will announce the half yearly performance results of the company. Due to the ongoing COVID-19 pandemic, our profits have declined by 60% as compared to the last half yearly results'\n",
        "\n",
        "# Print your sentence\n"
      ],
      "execution_count": null,
      "outputs": []
    },
    {
      "cell_type": "code",
      "metadata": {
        "id": "B4afm8gCs8CY"
      },
      "source": [
        "# Default set of stop words \n",
        "stop_words = {\"i\", \"me\", \"my\", \"myself\", \"we\", \"our\", \"ours\", \"ourselves\", \"you\", \"your\", \"yours\", \"yourself\", \n",
        "              \"yourselves\", \"he\", \"him\", \"his\", \"himself\", \"she\", \"her\", \"hers\", \"herself\", \"it\", \"its\", \"itself\",\n",
        "              \"they\", \"them\", \"their\", \"theirs\", \"themselves\", \"what\", \"which\", \"who\", \"whom\", \"this\", \"that\",\n",
        "              \"these\", \"those\", \"am\", \"is\", \"are\", \"was\", \"were\", \"be\", \"been\", \"being\", \"have\", \"has\", \"had\",\n",
        "              \"having\", \"do\", \"does\", \"did\", \"doing\", \"a\", \"an\", \"the\", \"and\", \"but\", \"if\", \"or\", \"because\",\n",
        "              \"as\", \"until\", \"while\", \"of\", \"at\", \"by\", \"for\", \"with\", \"about\", \"against\", \"between\", \"into\",\n",
        "              \"through\", \"during\", \"before\", \"after\", \"above\", \"below\", \"to\", \"from\", \"up\", \"down\", \"in\", \"out\", \n",
        "              \"on\", \"off\", \"over\", \"under\", \"again\", \"further\", \"then\", \"once\", \"here\", \"there\", \"when\", \"where\",\n",
        "              \"why\", \"how\", \"all\", \"any\", \"both\", \"each\", \"few\", \"more\", \"most\", \"other\", \"some\", \"such\", \"no\",\n",
        "              \"nor\", \"not\", \"only\", \"own\", \"same\", \"so\", \"than\", \"too\", \"very\", \"s\", \"t\", \"can\", \"will\", \"just\",\n",
        "              \"don\", \"should\", \"now\"}\n"
      ],
      "execution_count": null,
      "outputs": []
    },
    {
      "cell_type": "code",
      "metadata": {
        "id": "evgHHnRks8Cc"
      },
      "source": [
        "# Update the set of stop words by adding the custom stop words\n",
        "custom_stop_words = [\"hello\",\"good\",\"morning\",\"half\",\"yearly\"]\n",
        "\n",
        "# Your code here\n",
        "\n",
        "\n",
        "# Print the updated stop words\n"
      ],
      "execution_count": null,
      "outputs": []
    },
    {
      "cell_type": "code",
      "metadata": {
        "id": "1QbZrotrtIE3"
      },
      "source": [
        "# Do the same task another way. Keep in mind to use the original set of stop_words for this piece of code\n",
        "\n",
        "\n",
        "\n",
        "# Print the updated stop words\n"
      ],
      "execution_count": null,
      "outputs": []
    },
    {
      "cell_type": "markdown",
      "metadata": {
        "id": "P1rOYC8Is8Cf"
      },
      "source": [
        "## <u>Problem 4</u>\n",
        "\n",
        " Write a Python script to check whether a given key already exists in a dictionary. If it does, drop that key from the dictionary. If it does not, add that key and corresponding value to the dictionary"
      ]
    },
    {
      "cell_type": "code",
      "metadata": {
        "id": "ySeGyCtCs8Cg"
      },
      "source": [
        "# Your dictionary\n",
        "employee_dict = {'Name':'Sanket','Skills':['Python','Machine Learning','Deep Learning'],'Band':6.0,\n",
        "                 'Promotion Year':[2016,2018,2020]}"
      ],
      "execution_count": null,
      "outputs": []
    },
    {
      "cell_type": "code",
      "metadata": {
        "id": "MI7mOHaqs8Cj"
      },
      "source": [
        "# Check if the key 'Employee_ID' is present in the dictionary. Hint : use a boolean variable to store this value\n",
        "\n",
        "\n",
        "# If not present add this key to this dictionary and the corresponding value to be 4503233\n"
      ],
      "execution_count": null,
      "outputs": []
    },
    {
      "cell_type": "code",
      "metadata": {
        "id": "ARPbZfY8s8Co"
      },
      "source": [
        "# Check if the key 'Band' is present in the dictionary.\n",
        "\n",
        "\n",
        "# If present, drop this key from the dictionary\n"
      ],
      "execution_count": null,
      "outputs": []
    },
    {
      "cell_type": "code",
      "metadata": {
        "id": "lUDbbyXmulzh"
      },
      "source": [
        "# Print the updated dictionary\n"
      ],
      "execution_count": null,
      "outputs": []
    }
  ]
}